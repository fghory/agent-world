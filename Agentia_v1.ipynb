{
  "nbformat": 4,
  "nbformat_minor": 0,
  "metadata": {
    "colab": {
      "provenance": [],
      "authorship_tag": "ABX9TyPAjp4Hkq2ffBB1UnSB4Mrr",
      "include_colab_link": true
    },
    "kernelspec": {
      "name": "python3",
      "display_name": "Python 3"
    },
    "language_info": {
      "name": "python"
    }
  },
  "cells": [
    {
      "cell_type": "markdown",
      "metadata": {
        "id": "view-in-github",
        "colab_type": "text"
      },
      "source": [
        "<a href=\"https://colab.research.google.com/github/fghory/agent-world/blob/main/Agentia_v1.ipynb\" target=\"_parent\"><img src=\"https://colab.research.google.com/assets/colab-badge.svg\" alt=\"Open In Colab\"/></a>"
      ]
    },
    {
      "cell_type": "code",
      "execution_count": null,
      "metadata": {
        "id": "9oUFEEipn2x4"
      },
      "outputs": [],
      "source": [
        "%%capture --no-stderr\n",
        "%pip install --quiet -U  langgraph langchain_community langchain_openai langchain_google_genai langchain_core langgraph-checkpoint-postgres psycopg psycopg2 psycopg-pool trustcall"
      ]
    },
    {
      "cell_type": "code",
      "source": [
        "import os\n",
        "from google.colab import userdata\n",
        "\n",
        "os.environ[\"OPENAI_API_KEY\"] = userdata.get('OPENAI_API_KEY')\n",
        "os.environ[\"GEMINI_API_KEY\"] = userdata.get('GEMINI_API_KEY')\n",
        "os.environ[\"LANGCHAIN_API_KEY\"] = userdata.get('LANGCHAIN_API_KEY')\n",
        "os.environ[\"LANGCHAIN_TRACING_V2\"] = \"true\"\n",
        "os.environ[\"LANGCHAIN_PROJECT\"] = \"langchain-academy\"\n",
        "GEMINI_API_KEY = userdata.get('GEMINI_API_KEY')"
      ],
      "metadata": {
        "id": "rplniUFoo6nL"
      },
      "execution_count": null,
      "outputs": []
    },
    {
      "cell_type": "code",
      "source": [
        "AGENTIA_DB_URI = userdata.get('AGENTIA_DB_URI')\n",
        "AGENTIA_LT_MEM_URI = userdata.get('AGENTIA_LT_MEM_URI')"
      ],
      "metadata": {
        "id": "hm7Ku5dL0Q55"
      },
      "execution_count": null,
      "outputs": []
    },
    {
      "cell_type": "code",
      "source": [
        "from typing import Literal\n",
        "from pydantic import BaseModel, Field\n",
        "from langchain_openai import ChatOpenAI\n",
        "from langgraph.graph import MessagesState, END\n",
        "from langgraph.types import Command\n",
        "from langchain_core.runnables.config import RunnableConfig\n",
        "from langgraph.store.base import BaseStore\n",
        "from trustcall import create_extractor\n",
        "\n",
        "\n",
        "#members = [\"greetings\", \"user_info\"]\n",
        "members = [\"greetings\", \"user\"]\n",
        "# Our team supervisor is an LLM node. It just picks the next agent to process\n",
        "# and decides when the work is completed\n",
        "options = members + [\"FINISH\"]\n",
        "\n",
        "llm_openai = ChatOpenAI(model=\"gpt-4o\")\n",
        "\n",
        "# Schema for long-term memory\n",
        "class UserProfile(BaseModel):\n",
        "    \"\"\" Profile of a user \"\"\"\n",
        "    user_name: str = Field(description=\"The user's preferred name\")\n",
        "    user_location: str = Field(description=\"The user's location\")\n",
        "    interests: list = Field(description=\"A list of the user's interests\")\n",
        "\n",
        "# Create the extractor\n",
        "trustcall_extractor = create_extractor(\n",
        "    llm_openai,\n",
        "    tools=[UserProfile],\n",
        "    tool_choice=\"UserProfile\", # Enforces use of the UserProfile tool\n",
        ")\n",
        "\n",
        "\n",
        "class Router(BaseModel):\n",
        "    \"\"\"Worker to route to next. If no workers needed, route to FINISH.\"\"\"\n",
        "\n",
        "    next: Literal[\"greetings\", \"user\", \"FINISH\"]\n",
        "\n",
        "# When no further routing is required, respond with FINISH.\n",
        "system_message = \"\"\"\n",
        "You are a supervisor tasked with managing a conversation between the following workers: {members}.\n",
        "You are also a helpful assistant with memory that provides information about the user.\n",
        "If you have memory for this user, use it to personalize your responses. Here is the memory (it may be empty): {memory}.\n",
        "\n",
        "Analyze the user's request and determine the appropriate next worker based on these rules:\n",
        "  1. If the user first message:\n",
        "    a) include only greeting or greeting with other content : route to the 'greetings' agent. Ensure that you route to greeting node only once!\n",
        "    b) does not include greeting: always route to the 'user' agent.\n",
        "  2. After the 'greetings' agent responds, transition to the 'user' node to continue the conversation.\n",
        "  3. Carefully understand the user request and go back to the 'user' node with your appropriate response.\n",
        "  4. Always route to the 'user' node after fulfilling the user's request to engage in further dialogue.\n",
        "  5. If the user's request can be fulfilled without involving other agents, respond directly and then transition to the 'user' node.\n",
        "  6. If the user indicates the end of the conversation or no further action is required:\n",
        "    a) Respond to user with something like 'Thank you for reaching out! Have a great day!' or 'It was a pleasure assisting you. Take care!'\n",
        "    b) and afterwards transition to the '__end__' node.\n",
        "\n",
        "  NOTE:\n",
        "  DO NOT ROUTE TO GREETING NODE WITH EMPTY MESSAGE\n",
        "  IF USER INTENT IS TO END CONSERVATON ALWAYS RESPOND TO USER WITH SOME NICE WORDS AND THEN GO TO '__end__' NODE\n",
        "\"\"\"\n",
        "\n",
        "def supervisor_node(state: MessagesState,  config: RunnableConfig, store: BaseStore) -> Command[Literal[\"greetings\", \"user\", \"__end__\"]]:\n",
        "\n",
        "    \"\"\"Load memory from the store and use it to personalize the chatbot's response.\"\"\"\n",
        "\n",
        "    # Get the user ID from the config\n",
        "    user_id = config[\"configurable\"][\"user_id\"]\n",
        "\n",
        "    # Retrieve memory from the store\n",
        "    namespace = (\"memory\", user_id)\n",
        "    existing_memory = store.get(namespace, \"user_memory\")\n",
        "\n",
        "    # Format the memories for the system prompt\n",
        "    if existing_memory and existing_memory.value:\n",
        "        memory_dict = existing_memory.value\n",
        "        formatted_memory = (\n",
        "            f\"Name: {memory_dict.get('user_name', 'Unknown')}\\n\"\n",
        "            f\"Location: {memory_dict.get('user_location', 'Unknown')}\\n\"\n",
        "            f\"Interests: {', '.join(memory_dict.get('interests', []))}\"\n",
        "        )\n",
        "    else:\n",
        "        formatted_memory = None\n",
        "\n",
        "    system_prompt = system_message.format(memory=formatted_memory, members=members)\n",
        "\n",
        "    messages = [\n",
        "        {\"role\": \"system\", \"content\": system_prompt},\n",
        "    ] + state[\"messages\"]\n",
        "    response = llm_openai.with_structured_output(Router).invoke(messages)\n",
        "    goto = response.next\n",
        "    if goto == \"FINISH\":\n",
        "        goto = END\n",
        "\n",
        "    # Determine the last active node from the latest AIMessage\n",
        "    last_message = state[\"messages\"][-1] if state[\"messages\"] else None\n",
        "    last_active_node = last_message.name if last_message else None\n",
        "\n",
        "    # If the last active node was the greetings agent, transition to the user node\n",
        "    if last_active_node == \"greetings\":\n",
        "        return Command(goto=\"user\", update={\"messages\": state[\"messages\"]})\n",
        "\n",
        "    # To ensure that only llm generated response is sent to user if last node is not greetings\n",
        "    if goto == \"user\" and last_active_node != \"greetings\":\n",
        "        # Generate a direct response\n",
        "        supervisor_response = llm_openai.invoke(messages)\n",
        "        # Validate the response content before adding it to the state\n",
        "        if not supervisor_response.content:\n",
        "            raise ValueError(\"Empty response generated by the supervisor node.\")\n",
        "\n",
        "        new_message = AIMessage(content=supervisor_response.content, name=\"supervisor\")\n",
        "        updated_messages = state[\"messages\"] + [new_message]\n",
        "        return Command(goto=goto, update={\"messages\": updated_messages})\n",
        "    update = {\"messages\": state[\"messages\"]}\n",
        "    return Command(goto=goto, update=update)"
      ],
      "metadata": {
        "id": "m-GdMaLnpX8F"
      },
      "execution_count": null,
      "outputs": []
    },
    {
      "cell_type": "code",
      "source": [
        "from langchain_google_genai import ChatGoogleGenerativeAI\n",
        "from langchain_core.messages import HumanMessage, AIMessage, SystemMessage\n",
        "from langgraph.graph import StateGraph, START, END\n",
        "from langgraph.prebuilt import create_react_agent\n",
        "\n",
        "llm_gemni = ChatGoogleGenerativeAI(model=\"gemini-1.5-flash\",  api_key = GEMINI_API_KEY)\n",
        "\n",
        "def greetings_node(state: MessagesState) -> Command[Literal[\"supervisor\"]]:\n",
        "\n",
        "    system_prompt = (\"\"\"You are a greetings agent. Your task is to reply the user in reponse to the greetings message.\n",
        "    You should reply in the same language in which the user has said his/her greeting.\n",
        "    Add a polite sentence like How can I help you ? or something similar in your response\n",
        "     \"\"\")\n",
        "\n",
        "    # Debug print to check the state messages\n",
        "    print(\"State messages:\", state[\"messages\"])\n",
        "\n",
        "    # Ensure that state[\"messages\"] is not empty\n",
        "    if not state[\"messages\"]:\n",
        "        raise ValueError(\"No messages found in the state.\")\n",
        "\n",
        "    messages = [\n",
        "        {\"role\": \"system\", \"content\": system_prompt},\n",
        "    ] + state[\"messages\"]\n",
        "\n",
        "    # Debug print to check the final messages being passed to the model\n",
        "    print(\"Final messages to llm_gemni:\", messages)\n",
        "\n",
        "    result = llm_gemni.invoke(messages)\n",
        "    return Command(\n",
        "        update={\n",
        "            \"messages\": [\n",
        "                AIMessage(content=result.content, name=\"greetings\")\n",
        "            ],\n",
        "        },\n",
        "        goto=\"supervisor\",\n",
        "    )\n",
        "\n",
        "\n",
        "    # messages = [\n",
        "    #     {\"role\": \"system\", \"content\": system_prompt},\n",
        "    # ] + state[\"messages\"]\n",
        "    # result = llm_gemni.invoke(messages)\n",
        "    # return Command(\n",
        "    #     update={\n",
        "    #         \"messages\": [\n",
        "    #             AIMessage(content=result.content, name=\"greetings\")\n",
        "    #         ],\n",
        "    #     },\n",
        "    #     goto=\"supervisor\",\n",
        "    # )\n",
        "\n",
        "\n"
      ],
      "metadata": {
        "id": "DJEsU-QGAjhv"
      },
      "execution_count": null,
      "outputs": []
    },
    {
      "cell_type": "code",
      "source": [
        "from langgraph.types import interrupt\n",
        "\n",
        "def user_node(state: MessagesState) -> Command[Literal[\"supervisor\", \"write_memory\"]]:\n",
        "  value = interrupt(\"user response: \")\n",
        "\n",
        "  return Command(\n",
        "        update={\n",
        "            \"messages\": [\n",
        "                HumanMessage(content=value, name=\"user\")\n",
        "            ],\n",
        "        },\n",
        "        goto=[\"supervisor\",\"write_memory\"]\n",
        "    )"
      ],
      "metadata": {
        "id": "CUxbuZir1YNb"
      },
      "execution_count": null,
      "outputs": []
    },
    {
      "cell_type": "code",
      "source": [
        "# Extraction instruction\n",
        "TRUSTCALL_INSTRUCTION = \"\"\"Create or update the memory (JSON doc) to incorporate information from the following conversation:\"\"\"\n",
        "\n",
        "def write_memory(state: MessagesState, config: RunnableConfig, store: BaseStore):\n",
        "\n",
        "    \"\"\"Reflect on the chat history and save a memory to the store.\"\"\"\n",
        "\n",
        "    # Get the user ID from the config\n",
        "    user_id = config[\"configurable\"][\"user_id\"]\n",
        "\n",
        "    # Retrieve existing memory from the store\n",
        "    namespace = (\"memory\", user_id)\n",
        "    existing_memory = store.get(namespace, \"user_memory\")\n",
        "\n",
        "    # Get the profile as the value from the list, and convert it to a JSON doc\n",
        "    existing_profile = {\"UserProfile\": existing_memory.value} if existing_memory else None\n",
        "\n",
        "    # Invoke the extractor\n",
        "    result = trustcall_extractor.invoke({\"messages\": [SystemMessage(content=TRUSTCALL_INSTRUCTION)]+state[\"messages\"], \"existing\": existing_profile})\n",
        "\n",
        "    # Get the updated profile as a JSON object\n",
        "    updated_profile = result[\"responses\"][0].model_dump()\n",
        "\n",
        "    # Save the updated profile\n",
        "    key = \"user_memory\"\n",
        "    store.put(namespace, key, updated_profile)\n",
        "\n"
      ],
      "metadata": {
        "id": "pyyOn9vAhrAb"
      },
      "execution_count": null,
      "outputs": []
    },
    {
      "cell_type": "code",
      "source": [
        "from IPython.display import Image, display\n",
        "from psycopg_pool import ConnectionPool\n",
        "from langgraph.checkpoint.postgres import PostgresSaver\n",
        "from langgraph.store.memory import InMemoryStore\n",
        "from langgraph.store.postgres import PostgresStore\n",
        "from langgraph.checkpoint.memory import MemorySaver\n",
        "\n",
        "# Connection pool for efficient database access\n",
        "connection_kwargs = {\"autocommit\": True, \"prepare_threshold\": 0}\n",
        "\n",
        "# Create a persistent connection pool\n",
        "pool = ConnectionPool(conninfo=AGENTIA_DB_URI, max_size=20, kwargs=connection_kwargs)\n",
        "\n",
        "# Initialize PostgresSaver checkpointer\n",
        "checkpointer = PostgresSaver(pool)\n",
        "checkpointer.setup()  # Ensure database tables are set up\n",
        "\n",
        "# checkpointer = MemorySaver()\n",
        "\n",
        "# Store for long-term (across-thread) memory\n",
        "\n",
        "pool1 = ConnectionPool(conninfo=AGENTIA_LT_MEM_URI, max_size=20, kwargs=connection_kwargs)\n",
        "store = PostgresStore(pool1)\n",
        "store.setup()\n",
        "#across_thread_memory = InMemoryStore()\n",
        "\n",
        "\n",
        "builder = StateGraph(MessagesState)\n",
        "builder.add_edge(START, \"supervisor\")\n",
        "builder.add_node(\"supervisor\", supervisor_node)\n",
        "builder.add_node(\"greetings\", greetings_node)\n",
        "builder.add_node(\"user\", user_node)\n",
        "builder.add_node(\"write_memory\", write_memory)\n",
        "\n",
        "\n",
        "graph = builder.compile(checkpointer=checkpointer, store=store)\n",
        "\n",
        "# Show\n",
        "display(Image(graph.get_graph(xray=True).draw_mermaid_png()))"
      ],
      "metadata": {
        "colab": {
          "base_uri": "https://localhost:8080/",
          "height": 365
        },
        "id": "t494CGl5Cz4Q",
        "outputId": "80f9b36c-20e0-4373-e4de-c014ed9d5a3a"
      },
      "execution_count": null,
      "outputs": [
        {
          "output_type": "display_data",
          "data": {
            "image/png": "[encoded data removed]",
            "text/plain": [
              "<IPython.core.display.Image object>"
            ]
          },
          "metadata": {}
        }
      ]
    },
    {
      "cell_type": "code",
      "source": [
        "# Specify a thread\n",
        "config = {\"configurable\": {\"thread_id\": \"107\", \"user_id\": \"106\"}}\n",
        "\n",
        "# Specify an input\n",
        "messages = [HumanMessage(content=\"who is Ameen?\")]\n",
        "\n",
        "# Start conversation\n",
        "for chunk in graph.stream({\"messages\": messages}, config, stream_mode=\"updates\"):\n",
        "  # print(chunk)\n",
        "  if 'supervisor' in chunk:\n",
        "    ai_messages = [msg for msg in chunk['supervisor']['messages'] if isinstance(msg, AIMessage)]\n",
        "    # Print the content of each AIMessage\n",
        "    if ai_messages:\n",
        "            # Access the last AIMessage using negative indexing\n",
        "            latest_ai_message = ai_messages[-1]\n",
        "            # Print the content of the latest AIMessage\n",
        "            print(latest_ai_message.content)"
      ],
      "metadata": {
        "colab": {
          "base_uri": "https://localhost:8080/"
        },
        "id": "C_XkEq26lybf",
        "outputId": "6657fdc1-b586-4198-8374-0ce8bd768f25"
      },
      "execution_count": null,
      "outputs": [
        {
          "output_type": "stream",
          "name": "stdout",
          "text": [
            "Ameen is a user interested in bakeries in Karachi, particularly those with dine-in facilities. Ameen is located in Islamabad. How can I assist you further?\n"
          ]
        }
      ]
    },
    {
      "cell_type": "code",
      "source": [
        "# Specify a thread\n",
        "config = {\"configurable\": {\"thread_id\": \"131\", \"user_id\": \"131\"}}\n",
        "\n",
        "# Specify an input\n",
        "messages = [HumanMessage(content=\"Ni Hao!, How are you doing?\")]\n",
        "\n",
        "# Start conversation\n",
        "for chunk in graph.stream({\"messages\": messages}, config, stream_mode=\"updates\"):\n",
        "  # print(chunk)\n",
        "  if 'supervisor' in chunk:\n",
        "    ai_messages = [msg for msg in chunk['supervisor']['messages'] if isinstance(msg, AIMessage)]\n",
        "    # Print the content of each AIMessage\n",
        "    if ai_messages:\n",
        "            # Access the last AIMessage using negative indexing\n",
        "            latest_ai_message = ai_messages[-1]\n",
        "            # Print the content of the latest AIMessage\n",
        "            print(latest_ai_message.content)"
      ],
      "metadata": {
        "colab": {
          "base_uri": "https://localhost:8080/"
        },
        "id": "JQh1bTb_DQly",
        "outputId": "d6af64c3-2eb2-46a8-9e1d-61dc46a56d47"
      },
      "execution_count": null,
      "outputs": [
        {
          "output_type": "stream",
          "name": "stdout",
          "text": [
            "State messages: [HumanMessage(content='Ni Hao!, How are you doing?', additional_kwargs={}, response_metadata={}, id='3ebc500e-5387-478c-9015-4854dfb91541')]\n",
            "Final messages to llm_gemni: [{'role': 'system', 'content': 'You are a greetings agent. Your task is to reply the user in reponse to the greetings message.\\n    You should reply in the same language in which the user has said his/her greeting.\\n    Add a polite sentence like How can I help you ? or something similar in your response\\n     '}, HumanMessage(content='Ni Hao!, How are you doing?', additional_kwargs={}, response_metadata={}, id='3ebc500e-5387-478c-9015-4854dfb91541')]\n",
            "你好！(Nǐ hǎo!) I'm doing well, thank you. How may I assist you today?\n"
          ]
        }
      ]
    },
    {
      "cell_type": "code",
      "source": [
        "state = graph.get_state(config)\n",
        "state"
      ],
      "metadata": {
        "colab": {
          "base_uri": "https://localhost:8080/"
        },
        "id": "txghLwFQ7m0D",
        "outputId": "7af21e8e-c5a5-45cf-b2b3-3fb57cc02fe1"
      },
      "execution_count": null,
      "outputs": [
        {
          "output_type": "execute_result",
          "data": {
            "text/plain": [
              "StateSnapshot(values={'messages': [HumanMessage(content='Hi, My name is Jameel and I am an Telecommunication Engineer. How are you doing?', additional_kwargs={}, response_metadata={}, id='698cc4a9-4dea-4b3b-a174-df799829c488'), AIMessage(content=\"Hi Jameel, It's nice to meet you. I am doing well, thank you for asking. How can I help you?\", additional_kwargs={}, response_metadata={}, name='greetings', id='8f580a6d-f2e5-4ef8-afe5-7d6fac0b9cd1')]}, next=('user',), config={'configurable': {'thread_id': '110', 'checkpoint_ns': '', 'checkpoint_id': '1efd248a-3bc1-62bb-8003-af782cfa7491'}}, metadata={'step': 3, 'source': 'loop', 'writes': {'supervisor': {'messages': [HumanMessage(content='Hi, My name is Jameel and I am an Telecommunication Engineer. How are you doing?', additional_kwargs={}, response_metadata={}, id='698cc4a9-4dea-4b3b-a174-df799829c488'), AIMessage(content=\"Hi Jameel, It's nice to meet you. I am doing well, thank you for asking. How can I help you?\", additional_kwargs={}, response_metadata={}, name='greetings', id='8f580a6d-f2e5-4ef8-afe5-7d6fac0b9cd1')]}}, 'parents': {}, 'user_id': '110', 'thread_id': '110'}, created_at='2025-01-14T07:24:49.826446+00:00', parent_config={'configurable': {'thread_id': '110', 'checkpoint_ns': '', 'checkpoint_id': '1efd248a-32f3-600f-8002-5d040a15a6d0'}}, tasks=(PregelTask(id='d6a87b2a-221d-bc7f-e2ee-14a4a494f88f', name='user', path=('__pregel_pull', 'user'), error=None, interrupts=(Interrupt(value='user response: ', resumable=True, ns=['user:d6a87b2a-221d-bc7f-e2ee-14a4a494f88f'], when='during'),), state=None, result=None),))"
            ]
          },
          "metadata": {},
          "execution_count": 46
        }
      ]
    },
    {
      "cell_type": "code",
      "source": [
        "for chunk in graph.stream(Command(resume=\"I want to know about bakeries in Karachi\"), config, stream_mode=\"updates\"):\n",
        "  # print(chunk)\n",
        "  if 'supervisor' in chunk:\n",
        "    ai_messages = [msg for msg in chunk['supervisor']['messages'] if isinstance(msg, AIMessage)]\n",
        "    # Print the content of each AIMessage\n",
        "    if ai_messages:\n",
        "            # Access the last AIMessage using negative indexing\n",
        "            latest_ai_message = ai_messages[-1]\n",
        "            # Print the content of the latest AIMessage\n",
        "            print(latest_ai_message.content)"
      ],
      "metadata": {
        "colab": {
          "base_uri": "https://localhost:8080/"
        },
        "id": "S-D28k89GJpy",
        "outputId": "0a368152-68cc-4066-a067-949648bd2498"
      },
      "execution_count": null,
      "outputs": [
        {
          "output_type": "stream",
          "name": "stdout",
          "text": [
            "Karachi has a rich variety of bakeries offering delicious treats. Some famous ones include:\n",
            "\n",
            "1. Pie in the Sky - Known for its cakes and desserts.\n",
            "2. United King - Offers a range of sweets and baked goods.\n",
            "3. Delizia - Popular for its cakes and pastries.\n",
            "4. Hobnob Bakery - Offers a wide variety of baked items.\n",
            "5. Sacha’s - Known for its delectable cakes and snacks.\n",
            "\n",
            "Do you need any specific recommendations or are you looking for something particular?\n"
          ]
        }
      ]
    },
    {
      "cell_type": "code",
      "source": [
        "# Namespace for the memory to save\n",
        "user_id = \"108\"\n",
        "namespace = (\"memory\", user_id)\n",
        "existing_memory = store.get(namespace, \"user_memory\")\n",
        "existing_memory.value"
      ],
      "metadata": {
        "colab": {
          "base_uri": "https://localhost:8080/"
        },
        "id": "B_xqTq-fCrPR",
        "outputId": "2e1087f2-5cde-491b-8cfa-84fd5623526e"
      },
      "execution_count": null,
      "outputs": [
        {
          "output_type": "execute_result",
          "data": {
            "text/plain": [
              "{'interests': [], 'user_name': 'Ameen', 'user_location': 'Isb'}"
            ]
          },
          "metadata": {},
          "execution_count": 38
        }
      ]
    },
    {
      "cell_type": "code",
      "source": [
        "state = graph.get_state(config)\n",
        "state.next"
      ],
      "metadata": {
        "colab": {
          "base_uri": "https://localhost:8080/"
        },
        "id": "TacYBMdjwSDY",
        "outputId": "064d39d1-c9d2-4814-d931-c86ae4cd2766"
      },
      "execution_count": null,
      "outputs": [
        {
          "output_type": "execute_result",
          "data": {
            "text/plain": [
              "('user',)"
            ]
          },
          "metadata": {},
          "execution_count": 39
        }
      ]
    },
    {
      "cell_type": "code",
      "source": [
        "for chunk in graph.stream(Command(resume=\"Do these bakeries have dine in facility?\"), config, stream_mode=\"updates\"):\n",
        "  # print(chunk)\n",
        "  if 'supervisor' in chunk:\n",
        "    ai_messages = [msg for msg in chunk['supervisor']['messages'] if isinstance(msg, AIMessage)]\n",
        "    # Print the content of each AIMessage\n",
        "    if ai_messages:\n",
        "            # Access the last AIMessage using negative indexing\n",
        "            latest_ai_message = ai_messages[-1]\n",
        "            # Print the content of the latest AIMessage\n",
        "            print(latest_ai_message.content)"
      ],
      "metadata": {
        "colab": {
          "base_uri": "https://localhost:8080/"
        },
        "id": "-0pxQVm9PRGA",
        "outputId": "49decfb2-3eaa-4001-df96-c992071e96d7"
      },
      "execution_count": null,
      "outputs": [
        {
          "output_type": "stream",
          "name": "stdout",
          "text": [
            "Most of these bakeries primarily focus on takeaway services, but a few may offer limited dine-in facilities. It's best to check with individual bakeries for their dining options, as this can vary. Pie in the Sky and Hobnob Bakery sometimes have seating areas where you can enjoy your treats. Let me know if you need more specific information or assistance!\n"
          ]
        }
      ]
    },
    {
      "cell_type": "code",
      "source": [
        "# Namespace for the memory to save\n",
        "user_id = \"108\"\n",
        "namespace = (\"memory\", user_id)\n",
        "existing_memory = store.get(namespace, \"user_memory\")\n",
        "existing_memory.value"
      ],
      "metadata": {
        "colab": {
          "base_uri": "https://localhost:8080/"
        },
        "id": "RZDIW8ifJ9kc",
        "outputId": "88517f6e-f67a-47f5-eed8-a1c2be5d6cc0"
      },
      "execution_count": null,
      "outputs": [
        {
          "output_type": "execute_result",
          "data": {
            "text/plain": [
              "{'interests': [], 'user_name': 'Ameen', 'user_location': 'Isb'}"
            ]
          },
          "metadata": {},
          "execution_count": 41
        }
      ]
    },
    {
      "cell_type": "code",
      "source": [
        "for chunk in graph.stream(Command(resume=\"Thank You for now!\"), config, stream_mode=\"updates\"):\n",
        "  print(chunk)\n",
        "  # if 'supervisor' in chunk:\n",
        "  #   ai_messages = [msg for msg in chunk['supervisor']['messages'] if isinstance(msg, AIMessage)]\n",
        "  #   # Print the content of each AIMessage\n",
        "  #   if ai_messages:\n",
        "  #           # Access the last AIMessage using negative indexing\n",
        "  #           latest_ai_message = ai_messages[-1]\n",
        "  #           # Print the content of the latest AIMessage\n",
        "  #           print(latest_ai_message.content)"
      ],
      "metadata": {
        "colab": {
          "base_uri": "https://localhost:8080/"
        },
        "id": "RwgRhRQ2KDsA",
        "outputId": "614760a1-7d3c-4026-a65f-779d7cc58711"
      },
      "execution_count": null,
      "outputs": [
        {
          "output_type": "stream",
          "name": "stdout",
          "text": [
            "Most of these bakeries primarily focus on takeaway services, but a few may offer limited dine-in facilities. It's best to check with individual bakeries for their dining options, as this can vary. Pie in the Sky and Hobnob Bakery sometimes have seating areas where you can enjoy your treats. Let me know if you need more specific information or assistance!\n"
          ]
        }
      ]
    },
    {
      "cell_type": "code",
      "source": [
        "state = graph.get_state(config)\n",
        "state.next"
      ],
      "metadata": {
        "colab": {
          "base_uri": "https://localhost:8080/"
        },
        "id": "a4pm7jb8PXTa",
        "outputId": "d3bbf06d-5dca-4e38-a93e-e58b98523650"
      },
      "execution_count": null,
      "outputs": [
        {
          "output_type": "execute_result",
          "data": {
            "text/plain": [
              "()"
            ]
          },
          "metadata": {},
          "execution_count": 43
        }
      ]
    },
    {
      "cell_type": "code",
      "source": [
        "pool.close()"
      ],
      "metadata": {
        "id": "pCZ9kQuJ15Ep"
      },
      "execution_count": null,
      "outputs": []
    },
    {
      "cell_type": "code",
      "source": [
        "pool1.close()"
      ],
      "metadata": {
        "id": "JDiEotUPfkLT"
      },
      "execution_count": null,
      "outputs": []
    }
  ]
}